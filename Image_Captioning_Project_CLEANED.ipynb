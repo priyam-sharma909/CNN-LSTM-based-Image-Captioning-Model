{
 "cells": [
  {
   "cell_type": "code",
   "execution_count": null,
   "metadata": {
    "id": "zWEY4RPduEuE"
   },
   "outputs": [],
   "source": [
    "import os\n",
    "import pickle\n",
    "import numpy as np\n",
    "import pandas as pd\n",
    "from tqdm.notebook import tqdm\n",
    "\n",
    "from tensorflow.keras.applications.vgg16 import VGG16,preprocess_input\n",
    "from tensorflow.keras.preprocessing.image import load_img,img_to_array\n",
    "from tensorflow.keras.preprocessing.text import Tokenizer\n",
    "from tensorflow.keras.preprocessing.sequence import pad_sequences\n",
    "from tensorflow.keras.models import Model\n",
    "from tensorflow.keras.utils import to_categorical,plot_model\n",
    "from tensorflow.keras.layers import Input,Dense,LSTM,Embedding,Dropout,add"
   ]
  },
  {
   "cell_type": "code",
   "execution_count": null,
   "metadata": {
    "id": "K0dTFv_SWALy",
    "colab": {
     "base_uri": "https://localhost:8080/"
    },
    "outputId": "5b6f2784-80fa-4b42-b8fd-178148b0d4e6"
   },
   "outputs": [],
   "source": [
    "from google.colab import drive\n",
    "drive.mount('/content/drive')\n"
   ]
  },
  {
   "cell_type": "code",
   "execution_count": null,
   "metadata": {
    "colab": {
     "base_uri": "https://localhost:8080/"
    },
    "id": "AGB-Kl3XzYOE",
    "outputId": "c62595aa-daf4-45ea-c578-6b4417dad434"
   },
   "outputs": [],
   "source": [
    "import zipfile\n",
    "\n",
    "zip_path = '/content/drive/MyDrive/flickr8k.zip'  # Path to your zip file\n",
    "extract_path = '/content/flickr8k'                # Where to extract\n",
    "\n",
    "with zipfile.ZipFile(zip_path, 'r') as zip_ref:\n",
    "    zip_ref.extractall(extract_path)\n",
    "\n",
    "print(\"Dataset extracted successfully!\")\n"
   ]
  },
  {
   "cell_type": "code",
   "execution_count": null,
   "metadata": {
    "id": "v_-ETMK72hOC"
   },
   "outputs": [],
   "source": [
    "IMAGES_PATH = '/content/flickr8k/Images'\n"
   ]
  },
  {
   "cell_type": "code",
   "execution_count": null,
   "metadata": {
    "colab": {
     "base_uri": "https://localhost:8080/",
     "height": 850
    },
    "id": "U6bBFLuCwU7S",
    "outputId": "edc9823a-f19a-4425-e804-d25f5cb02bdc"
   },
   "outputs": [],
   "source": [
    "# load vgg16 model\n",
    "model = VGG16()\n",
    "# restructure the model\n",
    "model = Model(inputs=model.inputs, outputs=model.layers[-2].output)\n",
    "# summarize\n",
    "print(model.summary())"
   ]
  },
  {
   "cell_type": "code",
   "execution_count": null,
   "metadata": {
    "id": "ht5PeLZUsJHw",
    "colab": {
     "base_uri": "https://localhost:8080/",
     "height": 477,
     "referenced_widgets": [
      "91938d4d621c4e1eb7df48b6df5516fd",
      "6a1dec00f34944d0803d00d6a85677b4",
      "708ffa46b6a54c45bd801e4e6e3d4104",
      "e221acd18c7244468c668e074fc109d8",
      "6299a13431644c1dbb48727a9d8b8c0e",
      "f50f9762b99f412581985ec9e0ab8956",
      "37fd4267164e44529dbab6de5bb3fb9f",
      "93504d6e662c4c02817d4257ceb0e30f",
      "a3789fcbf8d8407ebd5a3e9da371ecfe",
      "472fdd8ab61d45f988c8cb2f10300662",
      "c4c2ac83bc0b45c3af56af882e740d4c"
     ]
    },
    "outputId": "193d9547-5070-4afd-c11a-463a6930e3ee"
   },
   "outputs": [],
   "source": [
    "# Extract features\n",
    "features = {}\n",
    "\n",
    "for img_name in tqdm(os.listdir(IMAGES_PATH)):\n",
    "    img_path = os.path.join(IMAGES_PATH, img_name)\n",
    "\n",
    "    # Load and preprocess the image\n",
    "    image = load_img(img_path, target_size=(224, 224))\n",
    "    image = img_to_array(image)\n",
    "    image = image.reshape((1, image.shape[0], image.shape[1], image.shape[2]))\n",
    "    image = preprocess_input(image)\n",
    "\n",
    "    # Extract features using VGG16\n",
    "    feature = model.predict(image, verbose=0)\n",
    "    image_id = img_name.split('.')[0]\n",
    "    features[image_id] = feature\n",
    "\n",
    "print(\"Features extracted for all images!\")\n"
   ]
  },
  {
   "cell_type": "code",
   "execution_count": null,
   "metadata": {
    "id": "JYhZe-wfJyIx",
    "colab": {
     "base_uri": "https://localhost:8080/"
    },
    "outputId": "dde41a3a-08c0-4c62-a5f5-595f6cadc3b7"
   },
   "outputs": [],
   "source": [
    "len(features)"
   ]
  },
  {
   "cell_type": "code",
   "execution_count": null,
   "metadata": {
    "id": "_1DYwSG968oQ",
    "colab": {
     "base_uri": "https://localhost:8080/",
     "height": 158
    },
    "outputId": "2f4cf39b-2928-432c-aced-fd2758253512"
   },
   "outputs": [],
   "source": [
    "#storing the features\n",
    "pickle.dump(features, open('features.pkl', 'wb'))"
   ]
  },
  {
   "cell_type": "code",
   "execution_count": null,
   "metadata": {
    "id": "sx5zVngs8Ebu"
   },
   "outputs": [],
   "source": [
    "# Load from local file\n",
    "features = pickle.load(open('features.pkl', 'rb'))"
   ]
  },
  {
   "cell_type": "code",
   "execution_count": null,
   "metadata": {
    "id": "uZdUoA2PD5PZ"
   },
   "outputs": [],
   "source": [
    "#loading the caption data\n",
    "# Direct path to captions file\n",
    "captions_path = '/content/flickr8k/captions.txt'\n",
    "\n",
    "# Read captions into a variable\n",
    "with open(captions_path, 'r') as f:\n",
    "    next(f)  # Skip header if present\n",
    "    captions_doc = f.read()\n"
   ]
  },
  {
   "cell_type": "code",
   "execution_count": null,
   "metadata": {
    "id": "D2lOXNRPE5P-",
    "colab": {
     "base_uri": "https://localhost:8080/",
     "height": 49,
     "referenced_widgets": [
      "47c147ba964e47e79337334caca615e4",
      "4c59c15b98a14473b59d2e309f9f76ad",
      "4fc48fa3fe3243f1baac4dfdb64a2d73",
      "ab689e5435cf43b8be50d5a3ee30884c",
      "28a0f8ce61da47b08e159c6d5e333007",
      "b578770cf0324b2cb1117a4f1913f198",
      "122e180babdd4374af18ff54dbb81012",
      "a1af362287c7410da15df4563019d6bc",
      "29b73d3854294a9798d4670b6f622c5d",
      "55d6055d869f4625a84ca3e0a8f02cc0",
      "b5091c70b6ba48e2a569f57a28d0b9b0"
     ]
    },
    "outputId": "216704e5-fafb-4338-e42f-8fa6581c546c"
   },
   "outputs": [],
   "source": [
    "# create mapping of image to captions\n",
    "mapping = {}\n",
    "# process lines\n",
    "for line in tqdm(captions_doc.split('\\n')):\n",
    "    # split the line by comma(,)\n",
    "    tokens = line.split(',')\n",
    "    if len(line) < 2:\n",
    "        continue\n",
    "    image_id, caption = tokens[0], tokens[1:]\n",
    "    # remove extension from image ID\n",
    "    image_id = image_id.split('.')[0]\n",
    "    # convert caption list to string\n",
    "    caption = \" \".join(caption)\n",
    "    # create list if needed\n",
    "    if image_id not in mapping:\n",
    "        mapping[image_id] = []\n",
    "    # store the caption\n",
    "    mapping[image_id].append(caption)"
   ]
  },
  {
   "cell_type": "code",
   "execution_count": null,
   "metadata": {
    "id": "MSO6KVlUJuZ2",
    "colab": {
     "base_uri": "https://localhost:8080/"
    },
    "outputId": "9567be98-6318-4859-ca28-c67aea627db3"
   },
   "outputs": [],
   "source": [
    "len(mapping)"
   ]
  },
  {
   "cell_type": "code",
   "execution_count": null,
   "metadata": {
    "id": "KuXvrU5VPChy"
   },
   "outputs": [],
   "source": [
    "def clean(mapping):\n",
    "    for key, captions in mapping.items():\n",
    "        for i in range(len(captions)):\n",
    "            # take one caption at a time\n",
    "            caption = captions[i].lower()\n",
    "\n",
    "            # remove characters other than alphabets by keeping only valid characters\n",
    "            caption = ''.join(char if char.isalpha() or char.isspace() else ' ' for char in caption)\n",
    "\n",
    "            # remove extra spaces\n",
    "            caption = ' '.join(caption.split())\n",
    "\n",
    "            # remove single-letter words (like 'a', 'i') if desired\n",
    "            caption = ' '.join([word for word in caption.split() if len(word) > 1])\n",
    "\n",
    "            # \u2705 avoid adding startseq/endseq multiple times\n",
    "            if not caption.startswith('startseq'):\n",
    "                caption = 'startseq ' + caption + ' endseq'\n",
    "\n",
    "            captions[i] = caption\n"
   ]
  },
  {
   "cell_type": "code",
   "execution_count": null,
   "metadata": {
    "id": "6o_XGGf5P73R",
    "colab": {
     "base_uri": "https://localhost:8080/"
    },
    "outputId": "fb5cd56f-70be-492b-f400-4cce931f98fe"
   },
   "outputs": [],
   "source": [
    "# before preprocess of text\n",
    "mapping['1000268201_693b08cb0e']"
   ]
  },
  {
   "cell_type": "code",
   "execution_count": null,
   "metadata": {
    "id": "RgBZiuBvQA7B",
    "colab": {
     "base_uri": "https://localhost:8080/"
    },
    "outputId": "14fda6ee-01c3-45d1-e6f9-1f8c6377b8a7"
   },
   "outputs": [],
   "source": [
    "# preprocess the text\n",
    "clean(mapping)\n",
    "\n",
    "# after preprocessing the text\n",
    "mapping['1000268201_693b08cb0e']\n"
   ]
  },
  {
   "cell_type": "code",
   "execution_count": null,
   "metadata": {
    "id": "09P6MgDhTgoo",
    "colab": {
     "base_uri": "https://localhost:8080/"
    },
    "outputId": "38dbb6c1-1bcb-4c98-d476-31a076ea8219"
   },
   "outputs": [],
   "source": [
    "all_captions = []\n",
    "for key in mapping:\n",
    "    for caption in mapping[key]:\n",
    "        all_captions.append(caption)\n",
    "\n",
    "len(all_captions)\n"
   ]
  },
  {
   "cell_type": "code",
   "execution_count": null,
   "metadata": {
    "id": "n8r8pPFgUGSB",
    "colab": {
     "base_uri": "https://localhost:8080/"
    },
    "outputId": "ab1caef3-94b3-48f2-b2ad-0223f006a1a8"
   },
   "outputs": [],
   "source": [
    "all_captions[:10]"
   ]
  },
  {
   "cell_type": "code",
   "execution_count": null,
   "metadata": {
    "id": "ClgAX1DDUX79"
   },
   "outputs": [],
   "source": [
    "# tokenize the text\n",
    "tokenizer = Tokenizer()\n",
    "tokenizer.fit_on_texts(all_captions)\n",
    "vocab_size = len(tokenizer.word_index) + 1"
   ]
  },
  {
   "cell_type": "code",
   "execution_count": null,
   "metadata": {
    "id": "kcv2LBZ_UYco",
    "colab": {
     "base_uri": "https://localhost:8080/"
    },
    "outputId": "98d03289-ed06-4a5e-f279-bbb600dc5183"
   },
   "outputs": [],
   "source": [
    "vocab_size"
   ]
  },
  {
   "cell_type": "code",
   "source": [
    "# get maximum length of the caption available important for padding\n",
    "\n",
    "max_length=max(len(caption.split()) for caption in all_captions)\n",
    "max_length"
   ],
   "metadata": {
    "colab": {
     "base_uri": "https://localhost:8080/"
    },
    "id": "HgbE097P3Env",
    "outputId": "7a833c1c-191a-43f3-9884-3acd10973417"
   },
   "execution_count": null,
   "outputs": []
  },
  {
   "cell_type": "code",
   "source": [
    "# After preprocessing the data now we will train, test and split\n",
    "image_ids=list(mapping.keys())\n",
    "split=int(len(image_ids)*0.90)\n",
    "train=image_ids[:split]\n",
    "test=image_ids[split:]"
   ],
   "metadata": {
    "id": "kQGxcM6B4huE"
   },
   "execution_count": null,
   "outputs": []
  },
  {
   "cell_type": "code",
   "source": [
    "# create data generator to get data in batch (avoids session crash)\n",
    "def data_generator(data_keys, mapping, features, tokenizer, max_length, vocab_size, batch_size):\n",
    "    # loop over images\n",
    "    X1, X2, y = list(), list(), list()\n",
    "    n = 0\n",
    "    while 1:\n",
    "        for key in data_keys:\n",
    "            n += 1\n",
    "            captions = mapping[key]\n",
    "            # process each caption\n",
    "            for caption in captions:\n",
    "                # encode the sequence\n",
    "                seq = tokenizer.texts_to_sequences([caption])[0]\n",
    "                # split the sequence into X, y pairs\n",
    "                for i in range(1, len(seq)):\n",
    "                    # split into input and output pairs\n",
    "                    in_seq, out_seq = seq[:i], seq[i]\n",
    "                    # pad input sequence\n",
    "                    in_seq = pad_sequences([in_seq], maxlen=max_length, padding='post')[0]\n",
    "                    # encode output sequence\n",
    "                    out_seq = to_categorical([out_seq], \tnum_classes=vocab_size)[0]\n",
    "                    # store the sequences\n",
    "                    X1.append(features[key][0])\n",
    "                    X2.append(in_seq)\n",
    "                    y.append(out_seq)\n",
    "            if n == batch_size:\n",
    "                X1, X2, y = np.array(X1), np.array(X2), np.array(y)\n",
    "                yield {\"image\": X1, \"text\": X2}, y\n",
    "                X1, X2, y = list(), list(), list()\n",
    "                n = 0\n",
    "\n",
    "\n"
   ],
   "metadata": {
    "id": "Xm9A5L_35uZp"
   },
   "execution_count": null,
   "outputs": []
  },
  {
   "cell_type": "code",
   "source": [
    "# Model Creation\n",
    "# encoder model\n",
    "\n",
    "# image feature layers\n",
    "inputs1 = Input(shape=(4096,), name=\"image\")\n",
    "fe1 = Dropout(0.4)(inputs1)\n",
    "fe2 = Dense(256, activation='relu')(fe1)\n",
    "# sequence feature layers\n",
    "inputs2 = Input(shape=(max_length,), name=\"text\")\n",
    "se1 = Embedding(vocab_size, 256, mask_zero=True)(inputs2)\n",
    "se2 = Dropout(0.4)(se1)\n",
    "se3 = LSTM(256)(se2)\n",
    "\n",
    "# decoder model\n",
    "decoder1 = add([fe2, se3])\n",
    "decoder2 = Dense(256, activation='relu')(decoder1)\n",
    "outputs = Dense(vocab_size, activation='softmax')(decoder2)\n",
    "\n",
    "model = Model(inputs=[inputs1, inputs2], outputs=outputs)\n",
    "model.compile(loss='categorical_crossentropy', optimizer='adam')\n",
    "\n",
    "# plot the model\n",
    "plot_model(model, show_shapes=True)\n"
   ],
   "metadata": {
    "colab": {
     "base_uri": "https://localhost:8080/",
     "height": 761
    },
    "id": "cScyn_4GJshv",
    "outputId": "96a8b590-3886-47ed-ff27-8c4a8b47f62a"
   },
   "execution_count": null,
   "outputs": []
  },
  {
   "cell_type": "code",
   "source": [
    "train = [key for key in train if key in features]\n",
    "len(train)"
   ],
   "metadata": {
    "id": "lR22UtGkRBQa",
    "colab": {
     "base_uri": "https://localhost:8080/"
    },
    "outputId": "468d6d6f-73bd-478b-c7a3-0e827b9a7962"
   },
   "execution_count": null,
   "outputs": []
  },
  {
   "cell_type": "code",
   "source": [
    "print(len(tokenizer.word_index))"
   ],
   "metadata": {
    "colab": {
     "base_uri": "https://localhost:8080/"
    },
    "id": "95qOL1EPa7wU",
    "outputId": "2142793a-1935-4954-9fc8-7d4fb927fb84"
   },
   "execution_count": null,
   "outputs": []
  },
  {
   "cell_type": "code",
   "source": [
    "# train the model\n",
    "epochs = 20\n",
    "batch_size = 16\n",
    "steps = len(train) // batch_size\n",
    "\n",
    "for i in range(epochs):\n",
    "    # create data generator\n",
    "    generator = data_generator(train, mapping, features, tokenizer, max_length, vocab_size, batch_size)\n",
    "    # fit for one epoch\n",
    "    model.fit(generator, epochs=1, steps_per_epoch=steps, verbose=1)"
   ],
   "metadata": {
    "colab": {
     "base_uri": "https://localhost:8080/"
    },
    "id": "kFzwTqtoPuWe",
    "outputId": "89c72915-7cd2-4e24-c0c0-1da580c262a9"
   },
   "execution_count": null,
   "outputs": []
  },
  {
   "cell_type": "code",
   "source": [
    "# save the model\n",
    "model.save('best_model.h5')"
   ],
   "metadata": {
    "id": "i0joifI3JsbV",
    "colab": {
     "base_uri": "https://localhost:8080/"
    },
    "outputId": "043556de-e30f-4374-b0d6-3a52be8d3228"
   },
   "execution_count": null,
   "outputs": []
  },
  {
   "cell_type": "code",
   "source": [
    "def idx_to_word(integer, tokenizer):\n",
    "    for word, index in tokenizer.word_index.items():\n",
    "        if index == integer:\n",
    "          return word\n",
    "    return None"
   ],
   "metadata": {
    "id": "tYtbsk1jTuIR"
   },
   "execution_count": null,
   "outputs": []
  },
  {
   "cell_type": "code",
   "source": [
    "# generate caption for an image\n",
    "def predict_caption(model, image, tokenizer, max_length):\n",
    "    # add start tag for generation process\n",
    "    in_text = 'startseq'\n",
    "    # iterate over the max length of sequence\n",
    "    for i in range(max_length):\n",
    "        # encode input sequence\n",
    "        sequence = tokenizer.texts_to_sequences([in_text])[0]\n",
    "        # pad the sequence\n",
    "        sequence = pad_sequences([sequence], max_length, padding='post')\n",
    "        # predict next word\n",
    "        yhat = model.predict([image, sequence], verbose=0)\n",
    "        # get index with high probability\n",
    "        yhat = np.argmax(yhat)\n",
    "        # convert index to word\n",
    "        word = idx_to_word(yhat, tokenizer)\n",
    "        # stop if word not found\n",
    "        if word is None:\n",
    "            break\n",
    "        # append word as input for generating next word\n",
    "        in_text += \" \" + word\n",
    "        # stop if we reach end tag\n",
    "        if word == 'endseq':\n",
    "            break\n",
    "    return in_text\n"
   ],
   "metadata": {
    "id": "Z24UIjOjVOGt"
   },
   "execution_count": null,
   "outputs": []
  },
  {
   "cell_type": "code",
   "source": [
    "from nltk.translate.bleu_score import corpus_bleu\n",
    "from tqdm import tqdm\n",
    "\n",
    "actual, predicted = [], []\n",
    "\n",
    "for key in tqdm(test):\n",
    "    # Get all reference captions (ground truth)\n",
    "    references = [caption.split() for caption in mapping[key]]\n",
    "\n",
    "    # Get the predicted caption\n",
    "    y_pred = predict_caption(model, features[key], tokenizer, max_length)\n",
    "    y_pred = y_pred.split()\n",
    "\n",
    "    # Store references and prediction\n",
    "    actual.append(references)\n",
    "    predicted.append(y_pred)\n",
    "\n",
    "# Calculate BLEU scores after the loop\n",
    "print(\"BLEU-1: %f\" % corpus_bleu(actual, predicted, weights=(1.0, 0, 0, 0)))     # unigram\n",
    "print(\"BLEU-2: %f\" % corpus_bleu(actual, predicted, weights=(0.5, 0.5, 0, 0)))   # bigram\n",
    "print(\"BLEU-3: %f\" % corpus_bleu(actual, predicted, weights=(0.3, 0.3, 0.3, 0))) # trigram\n",
    "print(\"BLEU-4: %f\" % corpus_bleu(actual, predicted, weights=(0.25, 0.25, 0.25, 0.25))) # 4-gram\n"
   ],
   "metadata": {
    "colab": {
     "base_uri": "https://localhost:8080/"
    },
    "id": "X4wBeIjjVma0",
    "outputId": "406abf89-ae3c-493d-9343-fc8afe2477eb"
   },
   "execution_count": null,
   "outputs": []
  },
  {
   "cell_type": "code",
   "source": [
    "from PIL import Image\n",
    "import matplotlib.pyplot as plt\n",
    "import os\n",
    "\n",
    "def generate_caption(image_name):\n",
    "    image_id = image_name.split('.')[0]\n",
    "    img_path = f\"/content/flickr8k/Images/{image_name}\"  # \u2705 Adjusted path\n",
    "\n",
    "    image = Image.open(img_path)\n",
    "\n",
    "    # Actual captions\n",
    "    captions = mapping[image_id]\n",
    "    print('---------------------Actual---------------------')\n",
    "    for caption in captions:\n",
    "        print(caption)\n",
    "\n",
    "    # Predicted caption\n",
    "    y_pred = predict_caption(model, features[image_id], tokenizer, max_length)\n",
    "    print('--------------------Predicted--------------------')\n",
    "    print(y_pred)\n",
    "\n",
    "    # Show image\n",
    "    plt.imshow(image)\n",
    "    plt.axis(\"off\")\n",
    "    plt.show()\n"
   ],
   "metadata": {
    "id": "SMHsB8J2WNEA"
   },
   "execution_count": null,
   "outputs": []
  },
  {
   "cell_type": "code",
   "source": [
    "generate_caption(\"640053014_549d2f23d2.jpg\")"
   ],
   "metadata": {
    "colab": {
     "base_uri": "https://localhost:8080/",
     "height": 508
    },
    "id": "2QxHmZNHXFeq",
    "outputId": "df416d08-9cf5-45f9-c8c9-b71dd586257c"
   },
   "execution_count": null,
   "outputs": []
  },
  {
   "cell_type": "code",
   "source": [
    "generate_caption(\"3197981073_3156963446.jpg\")"
   ],
   "metadata": {
    "colab": {
     "base_uri": "https://localhost:8080/",
     "height": 506
    },
    "id": "SPhbuPycVtX0",
    "outputId": "781be77e-e71e-4ca7-fb78-579ee7396821"
   },
   "execution_count": null,
   "outputs": []
  },
  {
   "cell_type": "code",
   "source": [
    "generate_caption(\"2562377955_8d670ccec6.jpg\")"
   ],
   "metadata": {
    "colab": {
     "base_uri": "https://localhost:8080/",
     "height": 545
    },
    "id": "-38332IIzFs5",
    "outputId": "95b240a8-94bb-4d2a-a501-2ee6d3e1a1d9"
   },
   "execution_count": null,
   "outputs": []
  },
  {
   "cell_type": "code",
   "source": [
    "generate_caption(\"58363930_0544844edd.jpg\")"
   ],
   "metadata": {
    "colab": {
     "base_uri": "https://localhost:8080/",
     "height": 545
    },
    "id": "OcAIElIYYcfK",
    "outputId": "23d1383a-202e-4296-ae50-551774a12720"
   },
   "execution_count": null,
   "outputs": []
  },
  {
   "cell_type": "code",
   "source": [
    "generate_caption(\"1436760519_8d6101a0ed.jpg\")"
   ],
   "metadata": {
    "colab": {
     "base_uri": "https://localhost:8080/",
     "height": 545
    },
    "id": "lhiTCO2bZGWL",
    "outputId": "bc6588a6-6b4e-4ed4-bbb5-bf207d638c94"
   },
   "execution_count": null,
   "outputs": []
  }
 ],
 "metadata": {
  "colab": {
   "provenance": [],
   "gpuType": "T4"
  },
  "kernelspec": {
   "display_name": "Python 3",
   "name": "python3"
  },
  "language_info": {
   "name": "python"
  },
  "accelerator": "GPU"
 },
 "nbformat": 4,
 "nbformat_minor": 0
}